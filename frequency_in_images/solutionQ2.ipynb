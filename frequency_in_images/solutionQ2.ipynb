{
 "cells": [
  {
   "cell_type": "markdown",
   "metadata": {},
   "source": [
    "<style>\n",
    "    h1 {\n",
    "        font-family: \"Times New Roman\", Times, serif; /* Use a serif font for headings */\n",
    "        font-size: 24px; /* Increase font size for headings */\n",
    "        font-weight: bold; /* Make headings bold */\n",
    "    }\n",
    "\n",
    "    h3 {\n",
    "        font-family: \"Times New Roman\", Times, serif; /* Use a serif font for subheadings */\n",
    "        font-size: 20px; /* Increase font size for subheadings */\n",
    "        font-weight: bold; /* Make subheadings bold */\n",
    "    }\n",
    "\n",
    "    p {\n",
    "        font-family: \"Times New Roman\", Times, serif; /* Use a serif font for paragraph text */\n",
    "        font-size: 16px; /* Set a standard font size */\n",
    "        line-height: 1.6; /* Increase line height for better readability */\n",
    "    }\n",
    "</style>\n",
    "\n",
    "<h1>Home Work-1 Computing</h1>\n",
    "\n",
    "<p>First, we will perform the required imports.</p>\n"
   ]
  },
  {
   "cell_type": "code",
   "execution_count": null,
   "metadata": {},
   "outputs": [],
   "source": [
    "import numpy as np\n",
    "import cv2\n",
    "import matplotlib.pyplot as plt\n"
   ]
  },
  {
   "cell_type": "markdown",
   "metadata": {},
   "source": [
    "<style>\n",
    "    h2 {\n",
    "        font-family: \"Times New Roman\", Times, serif; /* Use a serif font for headings */\n",
    "        font-size: 20px; /* Set a standard font size */\n",
    "        font-weight: bold; /* Make headings bold */\n",
    "    }\n",
    "    \n",
    "    h3 {\n",
    "        font-family: \"Times New Roman\", Times, serif; /* Use a serif font for subheadings */\n",
    "        font-size: 20px; /* Increase font size for subheadings */\n",
    "        font-weight: bold; /* Make subheadings bold */\n",
    "    }\n",
    "\n",
    "    \n",
    "    p {\n",
    "        font-family: \"Times New Roman\", Times, serif; /* Use a serif font for paragraph text */\n",
    "        font-size: 16px; /* Set a standard font size */\n",
    "        line-height: 1.6; /* Increase line height for better readability */\n",
    "    }\n",
    "</style>\n",
    "\n",
    "<h2>Question 2 Part A</h2>\n",
    "<h3>Function Definitions</h3>\n",
    "\n",
    "\n",
    "<p>Present Image.</p>\n",
    "\n",
    "\n"
   ]
  },
  {
   "cell_type": "code",
   "execution_count": null,
   "metadata": {},
   "outputs": [],
   "source": [
    "def present_image(img, title, xlabel = '', ylabel = ''):\n",
    "  # convert each of the RGB chnnels to the correct dynamic range:\n",
    "  img = (((img-np.min(img))/np.max(img))* 255).astype(int);\n",
    "  # Plot:\n",
    "  plt.figure(figsize=(16,8));\n",
    "  plt.imshow(img, cmap=\"gray\");\n",
    "  plt.title(title);\n",
    "  plt.xlabel(xlabel)\n",
    "  plt.ylabel(ylabel)\n",
    "  plt.show();\n",
    "  \n",
    "def compare_images(img1,img2, **args):\n",
    "  # convert each of the RGB chnnels to the correct dynamic range:\n",
    "  img1 = (((img1-np.min(img1))/np.max(img1))* 255).astype(int);\n",
    "  img2 = (((img2-np.min(img2))/np.max(img2))* 255).astype(int);\n",
    "  # Plot:\n",
    "  plt.figure(figsize=(16,8))\n",
    "  plt.subplot(121);\n",
    "  plt.imshow(img1, cmap=\"gray\")\n",
    "  plt.title(args['title1'])\n",
    "  plt.xlabel(args['xlabel1'])\n",
    "  plt.ylabel(args['ylabel1'])\n",
    "  plt.subplot(122)\n",
    "  plt.imshow(abs(img2), cmap=\"gray\")\n",
    "  plt.title(args['title2'])\n",
    "  plt.xlabel(args['xlabel2'])\n",
    "  plt.ylabel(args['ylabel2'])\n",
    "  plt.savefig(args['saveSrc'])\n",
    "  plt.show()\n"
   ]
  },
  {
   "cell_type": "markdown",
   "metadata": {},
   "source": [
    "<div style=\"font-family: Arial, sans-serif; font-size: 14px; line-height: 1.5;\">\n",
    "    <p><strong>Next</strong>, is a function that translates the amplitude of an image to a logarithmic scale. For any pixel with a magnitude of <span style=\"font-style: italic;\">x</span>, we will convert using <span style=\"font-family: 'Times New Roman', Times, serif;\">log<sub>10</sub>(x+1)</span>. Since we expect the Fourier transform to output complex values, we will use <code>abs()</code> to calculate the magnitude.</p>\n",
    "</div>\n"
   ]
  },
  {
   "cell_type": "code",
   "execution_count": null,
   "metadata": {},
   "outputs": [],
   "source": [
    "def logarithmic_display_of_image(img):\n",
    "  return np.log10(np.abs(img)+1)"
   ]
  },
  {
   "cell_type": "markdown",
   "metadata": {},
   "source": [
    "<div style=\"font-family: Arial, sans-serif; font-size: 14px; line-height: 1.5;\">\n",
    "    <p>Displaying image and the <strong>Uma.jpg</strong> FFT shifted log magnitude of amplitude.</p>\n",
    "</div>\n"
   ]
  },
  {
   "cell_type": "code",
   "execution_count": null,
   "metadata": {},
   "outputs": [],
   "source": [
    "# Load image in a gray scale format\n",
    "I1 = cv2.imread('./imgs/Uma.jpg', cv2.IMREAD_GRAYSCALE)\n",
    "\n",
    "# Perfrom the Furier tranform and shift the result\n",
    "I1_f = np.fft.fft2(I1);\n",
    "fshift = np.fft.fftshift(I1_f);\n",
    "# Convert to log scale and present the output\n",
    "log_image = logarithmic_display_of_image(fshift);\n",
    "\n",
    "compare_images(I1,log_image, title1='Orginal', \n",
    "                title2='Uma.jpg shifted log magnitude of amplitude',\n",
    "                xlabel1='size', ylabel1='size',\n",
    "                xlabel2='u',\n",
    "                ylabel2='v',\n",
    "                saveSrc='./frequency_in_images/outPut.jpg');"
   ]
  },
  {
   "cell_type": "markdown",
   "metadata": {},
   "source": [
    "<!DOCTYPE html>\n",
    "<html>\n",
    "<head>\n",
    "    <title>Styled Image</title>\n",
    "    <style>\n",
    "        /* Define the styles for the image */\n",
    "        .styled-image {\n",
    "            width: 700px; /* Set the width */\n",
    "            height: auto; /* Maintain aspect ratio */\n",
    "            border: 2px solid #ccc; /* Add a border */\n",
    "            border-radius: 10px; /* Add rounded corners */\n",
    "            box-shadow: 0 0 10px rgba(0, 0, 0, 0.1); /* Add a shadow */\n",
    "        }\n",
    "    </style>\n",
    "</head>\n",
    "<body>\n",
    "    <!-- Place your image here with the 'styled-image' class -->\n",
    "    <img src=\"../frequency_in_images/outPut.jpg\" alt=\"Styled Image\" class=\"styled-image\">\n",
    "</body>\n",
    "</html>\n"
   ]
  },
  {
   "cell_type": "markdown",
   "metadata": {},
   "source": [
    "<style>\n",
    "    h2 {\n",
    "        font-family: \"Times New Roman\", Times, serif; /* Use a serif font for headings */\n",
    "        font-size: 20px; /* Set a standard font size */\n",
    "        font-weight: bold; /* Make headings bold */\n",
    "    }\n",
    "    \n",
    "    h3 {\n",
    "        font-family: \"Times New Roman\", Times, serif; /* Use a serif font for subheadings */\n",
    "        font-size: 20px; /* Increase font size for subheadings */\n",
    "        font-weight: bold; /* Make subheadings bold */\n",
    "    }\n",
    "\n",
    "    \n",
    "    p {\n",
    "        font-family: \"Times New Roman\", Times, serif; /* Use a serif font for paragraph text */\n",
    "        font-size: 16px; /* Set a standard font size */\n",
    "        line-height: 1.6; /* Increase line height for better readability */\n",
    "    }\n",
    "</style>\n",
    "\n",
    "<h2>Question 2 Part B</h2>\n",
    "\n",
    "\n",
    "\n"
   ]
  },
  {
   "cell_type": "markdown",
   "metadata": {},
   "source": [
    "<div style=\"font-family: Arial, sans-serif; font-size: 14px; line-height: 1.5;\">\n",
    "    <p>Select the 5% lowest frequencies of the image in the <em>x</em>-direction (with all their frequencies in the <em>y</em>-direction) and the 5% lowest frequencies of the image in the <em>y</em>-direction (with all their frequencies in the <em>x</em>-direction). The different frequencies other than zero should be in the form of a \"band\" in both axes, as shown in the illustration (after fftshift).</p>\n",
    "</div>\n"
   ]
  },
  {
   "cell_type": "markdown",
   "metadata": {},
   "source": [
    "<div style=\"font-family: Arial, sans-serif; font-size: 14px; line-height: 1.5;\">\n",
    "    <p>Partition the x-axis and y-axis of the Fourier transform\n",
    "       Shift back and do the IFFT\n",
    "       Plot the frequency of the Partition and with output_image_fft_shift</p>\n",
    "</div>\n"
   ]
  },
  {
   "cell_type": "code",
   "execution_count": null,
   "metadata": {},
   "outputs": [],
   "source": [
    "\n",
    "height, width = I1.shape\n",
    "x_partition = int(round(0.05 * width))\n",
    "y_partition = int(round(0.05 * height))\n",
    "\n",
    "# Partition the x-axis and y-axis of the Fourier transform\n",
    "x_axis_sorted = np.sort(I1_f, axis=1)\n",
    "y_axis_sorted = np.sort(I1_f, axis=0)\n",
    "\n",
    "\n",
    "\n",
    "# Create an output image initialized with zeros\n",
    "output_image_fft = np.zeros(I1_f.shape)\n",
    "\n",
    "# Take the partitions\n",
    "output_image_fft[:, :x_partition] = x_axis_sorted[:, :x_partition]\n",
    "output_image_fft[:, -x_partition:] = x_axis_sorted[:, -x_partition:]\n",
    "output_image_fft[:y_partition, :]  = y_axis_sorted[:y_partition, :]\n",
    "output_image_fft[-y_partition:, :] =  y_axis_sorted[-y_partition:, :]\n",
    "\n",
    "output_image_fft_shift = np.fft.fftshift(output_image_fft)\n",
    "# plt.imshow(logarithmic_display_of_image(output_image_fft_shift ),cmap=\"gray\")\n",
    "# plt.show()\n",
    "\n",
    "\n",
    "output_image_SHIFTED_back = np.fft.fftshift(output_image_fft_shift)\n",
    "output_image_restores= np.fft.ifft2(output_image_SHIFTED_back)\n",
    "\n",
    "\n",
    "# Plot the original image and the transformed image\n",
    "disply = logarithmic_display_of_image(output_image_fft_shift )\n",
    "compare_images(disply, np.abs(output_image_restores), \n",
    "                title1='5% lowest frequencies of the image in the x and y axis', \n",
    "                title2='Inverse Fourier Transformed Image',\n",
    "                xlabel1='Width', ylabel1='Height',\n",
    "                xlabel2='Frequency (u)', ylabel2='Frequency (v)',\n",
    "                saveSrc='./outPut2.jpg')\n"
   ]
  },
  {
   "cell_type": "markdown",
   "metadata": {},
   "source": [
    "<!DOCTYPE html>\n",
    "<html>\n",
    "<head>\n",
    "    <title>Styled Image</title>\n",
    "    <style>\n",
    "        /* Define the styles for the image */\n",
    "        .styled-image {\n",
    "            width: 700px; /* Set the width */\n",
    "            height: auto; /* Maintain aspect ratio */\n",
    "            border: 2px solid #ccc; /* Add a border */\n",
    "            border-radius: 10px; /* Add rounded corners */\n",
    "            box-shadow: 0 0 10px rgba(0, 0, 0, 0.1); /* Add a shadow */\n",
    "        }\n",
    "    </style>\n",
    "</head>\n",
    "<body>\n",
    "    <!-- Place your image here with the 'styled-image' class -->\n",
    "    <img src=\"../frequency_in_images/outPut2.jpg\" alt=\"Styled Image\" class=\"styled-image\">\n",
    "</body>\n",
    "</html>\n"
   ]
  }
 ],
 "metadata": {
  "language_info": {
   "name": "python"
  }
 },
 "nbformat": 4,
 "nbformat_minor": 2
}
